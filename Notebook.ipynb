{
 "cells": [
  {
   "cell_type": "code",
   "execution_count": 1,
   "metadata": {},
   "outputs": [],
   "source": [
    "try:\n",
    "    import importlib\n",
    "    importlib.reload(briscola)\n",
    "except NameError:\n",
    "    import briscola\n"
   ]
  },
  {
   "cell_type": "code",
   "execution_count": 2,
   "metadata": {},
   "outputs": [],
   "source": [
    "game = briscola.Briscola_game()"
   ]
  },
  {
   "cell_type": "code",
   "execution_count": 3,
   "metadata": {},
   "outputs": [
    {
     "name": "stdout",
     "output_type": "stream",
     "text": [
      "None\n"
     ]
    },
    {
     "ename": "UnboundLocalError",
     "evalue": "local variable 'played_card' referenced before assignment",
     "output_type": "error",
     "traceback": [
      "\u001b[0;31m---------------------------------------------------------------------------\u001b[0m",
      "\u001b[0;31mUnboundLocalError\u001b[0m                         Traceback (most recent call last)",
      "\u001b[1;32m/Users/paolo/Documents/GitHub/Briscola-Game/Notebook.ipynb Cella 3\u001b[0m in \u001b[0;36m<cell line: 4>\u001b[0;34m()\u001b[0m\n\u001b[1;32m      <a href='vscode-notebook-cell:/Users/paolo/Documents/GitHub/Briscola-Game/Notebook.ipynb#W2sZmlsZQ%3D%3D?line=2'>3</a>\u001b[0m counter \u001b[39m=\u001b[39m {\u001b[39m'\u001b[39m\u001b[39mPino\u001b[39m\u001b[39m'\u001b[39m: \u001b[39m0\u001b[39m , \u001b[39m'\u001b[39m\u001b[39mGianfredo\u001b[39m\u001b[39m'\u001b[39m:\u001b[39m0\u001b[39m, \u001b[39m'\u001b[39m\u001b[39mTies\u001b[39m\u001b[39m'\u001b[39m:\u001b[39m0\u001b[39m}\n\u001b[1;32m      <a href='vscode-notebook-cell:/Users/paolo/Documents/GitHub/Briscola-Game/Notebook.ipynb#W2sZmlsZQ%3D%3D?line=3'>4</a>\u001b[0m \u001b[39mfor\u001b[39;00m i \u001b[39min\u001b[39;00m \u001b[39mrange\u001b[39m(B):\n\u001b[0;32m----> <a href='vscode-notebook-cell:/Users/paolo/Documents/GitHub/Briscola-Game/Notebook.ipynb#W2sZmlsZQ%3D%3D?line=4'>5</a>\u001b[0m     result \u001b[39m=\u001b[39m game\u001b[39m.\u001b[39;49mplay_game()\n\u001b[1;32m      <a href='vscode-notebook-cell:/Users/paolo/Documents/GitHub/Briscola-Game/Notebook.ipynb#W2sZmlsZQ%3D%3D?line=5'>6</a>\u001b[0m     \u001b[39mif\u001b[39;00m result \u001b[39m!=\u001b[39m \u001b[39mNone\u001b[39;00m:\n\u001b[1;32m      <a href='vscode-notebook-cell:/Users/paolo/Documents/GitHub/Briscola-Game/Notebook.ipynb#W2sZmlsZQ%3D%3D?line=6'>7</a>\u001b[0m         counter[giocatori[result]] \u001b[39m+\u001b[39m\u001b[39m=\u001b[39m \u001b[39m1\u001b[39m\n",
      "File \u001b[0;32m~/Documents/GitHub/Briscola-Game/briscola.py:333\u001b[0m, in \u001b[0;36mBriscola_game.play_game\u001b[0;34m(self)\u001b[0m\n\u001b[1;32m    330\u001b[0m done \u001b[39m=\u001b[39m \u001b[39mFalse\u001b[39;00m\n\u001b[1;32m    331\u001b[0m \u001b[39mwhile\u001b[39;00m(\u001b[39mnot\u001b[39;00m done):\n\u001b[1;32m    332\u001b[0m     \u001b[39m# Simulate a hand\u001b[39;00m\n\u001b[0;32m--> 333\u001b[0m     winner \u001b[39m=\u001b[39m \u001b[39mself\u001b[39;49m\u001b[39m.\u001b[39;49mhand(\u001b[39mself\u001b[39;49m\u001b[39m.\u001b[39;49mwinner)\n\u001b[1;32m    334\u001b[0m     \u001b[39m# Draw if there are still cards in the deck \u001b[39;00m\n\u001b[1;32m    335\u001b[0m     \u001b[39mif\u001b[39;00m \u001b[39mlen\u001b[39m(\u001b[39mself\u001b[39m\u001b[39m.\u001b[39mdeck) \u001b[39m!=\u001b[39m \u001b[39m0\u001b[39m:\n",
      "File \u001b[0;32m~/Documents/GitHub/Briscola-Game/briscola.py:282\u001b[0m, in \u001b[0;36mBriscola_game.hand\u001b[0;34m(self, winner)\u001b[0m\n\u001b[1;32m    280\u001b[0m \u001b[39mself\u001b[39m\u001b[39m.\u001b[39mstate \u001b[39m=\u001b[39m \u001b[39mself\u001b[39m\u001b[39m.\u001b[39mhand_to_state(\u001b[39mself\u001b[39m\u001b[39m.\u001b[39mplayer_2)\n\u001b[1;32m    281\u001b[0m \u001b[39m# Card played by player 2\u001b[39;00m\n\u001b[0;32m--> 282\u001b[0m card_1 \u001b[39m=\u001b[39m \u001b[39mself\u001b[39;49m\u001b[39m.\u001b[39;49mget_action(\u001b[39mself\u001b[39;49m\u001b[39m.\u001b[39;49mplayer_2, \u001b[39mself\u001b[39;49m\u001b[39m.\u001b[39;49mstate)\n\u001b[1;32m    283\u001b[0m \u001b[39m# Change and update the state\u001b[39;00m\n\u001b[1;32m    284\u001b[0m \u001b[39mself\u001b[39m\u001b[39m.\u001b[39mcard_on_table \u001b[39m=\u001b[39m card_1\n",
      "File \u001b[0;32m~/Documents/GitHub/Briscola-Game/briscola.py:213\u001b[0m, in \u001b[0;36mBriscola_game.get_action\u001b[0;34m(self, player, state)\u001b[0m\n\u001b[1;32m    211\u001b[0m     \u001b[39mprint\u001b[39m(action)\n\u001b[1;32m    212\u001b[0m     \u001b[39m#played_card = player.pop(action)\u001b[39;00m\n\u001b[0;32m--> 213\u001b[0m \u001b[39mreturn\u001b[39;00m played_card\n",
      "\u001b[0;31mUnboundLocalError\u001b[0m: local variable 'played_card' referenced before assignment"
     ]
    }
   ],
   "source": [
    "B = 1000\n",
    "giocatori = ['Pino' , 'Gianfredo', 'Ties']\n",
    "counter = {'Pino': 0 , 'Gianfredo':0, 'Ties':0}\n",
    "for i in range(B):\n",
    "    result = game.play_game()\n",
    "    if result != None:\n",
    "        counter[giocatori[result]] += 1\n",
    "counter"
   ]
  }
 ],
 "metadata": {
  "kernelspec": {
   "display_name": "base",
   "language": "python",
   "name": "python3"
  },
  "language_info": {
   "codemirror_mode": {
    "name": "ipython",
    "version": 3
   },
   "file_extension": ".py",
   "mimetype": "text/x-python",
   "name": "python",
   "nbconvert_exporter": "python",
   "pygments_lexer": "ipython3",
   "version": "3.9.12"
  },
  "orig_nbformat": 4
 },
 "nbformat": 4,
 "nbformat_minor": 2
}
