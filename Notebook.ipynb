{
 "cells": [
  {
   "cell_type": "code",
   "execution_count": 1,
   "metadata": {},
   "outputs": [],
   "source": [
    "import briscola"
   ]
  },
  {
   "cell_type": "code",
   "execution_count": 2,
   "metadata": {},
   "outputs": [],
   "source": [
    "game = briscola.Briscola_game()"
   ]
  },
  {
   "cell_type": "code",
   "execution_count": 3,
   "metadata": {},
   "outputs": [
    {
     "ename": "TypeError",
     "evalue": "hand_to_state() takes 3 positional arguments but 4 were given",
     "output_type": "error",
     "traceback": [
      "\u001b[0;31m---------------------------------------------------------------------------\u001b[0m",
      "\u001b[0;31mTypeError\u001b[0m                                 Traceback (most recent call last)",
      "\u001b[1;32m/Users/paolo/Documents/GitHub/Briscola-Game/Notebook.ipynb Cella 3\u001b[0m in \u001b[0;36m<cell line: 1>\u001b[0;34m()\u001b[0m\n\u001b[0;32m----> <a href='vscode-notebook-cell:/Users/paolo/Documents/GitHub/Briscola-Game/Notebook.ipynb#W2sZmlsZQ%3D%3D?line=0'>1</a>\u001b[0m game\u001b[39m.\u001b[39;49mhand(winner\u001b[39m=\u001b[39;49m\u001b[39m0\u001b[39;49m)\n",
      "File \u001b[0;32m~/Documents/GitHub/Briscola-Game/briscola.py:126\u001b[0m, in \u001b[0;36mBriscola_game.hand\u001b[0;34m(self, winner)\u001b[0m\n\u001b[1;32m    124\u001b[0m \u001b[39mdef\u001b[39;00m \u001b[39mhand\u001b[39m(\u001b[39mself\u001b[39m, winner):\n\u001b[1;32m    125\u001b[0m     \u001b[39mif\u001b[39;00m winner \u001b[39m==\u001b[39m \u001b[39m0\u001b[39m:\n\u001b[0;32m--> 126\u001b[0m         \u001b[39mself\u001b[39m\u001b[39m.\u001b[39mstate \u001b[39m=\u001b[39m \u001b[39mself\u001b[39;49m\u001b[39m.\u001b[39;49mhand_to_state(\u001b[39mself\u001b[39;49m,\u001b[39mself\u001b[39;49m\u001b[39m.\u001b[39;49mplayer_1,\u001b[39m1\u001b[39;49m)\n\u001b[1;32m    127\u001b[0m         card_1 \u001b[39m=\u001b[39m \u001b[39mself\u001b[39m\u001b[39m.\u001b[39mget_action(\u001b[39mself\u001b[39m, \u001b[39mself\u001b[39m\u001b[39m.\u001b[39mplayer_1, \u001b[39mself\u001b[39m\u001b[39m.\u001b[39mstate)\n\u001b[1;32m    128\u001b[0m         \u001b[39mself\u001b[39m\u001b[39m.\u001b[39mcard_on_table \u001b[39m=\u001b[39m card_1\n",
      "\u001b[0;31mTypeError\u001b[0m: hand_to_state() takes 3 positional arguments but 4 were given"
     ]
    }
   ],
   "source": [
    "game.hand(winner=0)"
   ]
  }
 ],
 "metadata": {
  "kernelspec": {
   "display_name": "base",
   "language": "python",
   "name": "python3"
  },
  "language_info": {
   "codemirror_mode": {
    "name": "ipython",
    "version": 3
   },
   "file_extension": ".py",
   "mimetype": "text/x-python",
   "name": "python",
   "nbconvert_exporter": "python",
   "pygments_lexer": "ipython3",
   "version": "3.9.12"
  },
  "orig_nbformat": 4
 },
 "nbformat": 4,
 "nbformat_minor": 2
}
