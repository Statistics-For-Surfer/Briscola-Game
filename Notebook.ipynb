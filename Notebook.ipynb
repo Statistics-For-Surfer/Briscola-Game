{
 "cells": [
  {
   "cell_type": "code",
   "execution_count": 14,
   "metadata": {},
   "outputs": [],
   "source": [
    "import briscola"
   ]
  },
  {
   "cell_type": "code",
   "execution_count": 15,
   "metadata": {},
   "outputs": [],
   "source": [
    "game = briscola.Briscola_game()"
   ]
  },
  {
   "cell_type": "code",
   "execution_count": 16,
   "metadata": {},
   "outputs": [
    {
     "ename": "ValueError",
     "evalue": "high <= 0",
     "output_type": "error",
     "traceback": [
      "\u001b[0;31m---------------------------------------------------------------------------\u001b[0m",
      "\u001b[0;31mValueError\u001b[0m                                Traceback (most recent call last)",
      "\u001b[1;32m/Users/paolo/Documents/GitHub/Briscola-Game/Notebook.ipynb Cella 3\u001b[0m in \u001b[0;36m<cell line: 1>\u001b[0;34m()\u001b[0m\n\u001b[0;32m----> <a href='vscode-notebook-cell:/Users/paolo/Documents/GitHub/Briscola-Game/Notebook.ipynb#W3sZmlsZQ%3D%3D?line=0'>1</a>\u001b[0m game\u001b[39m.\u001b[39;49mplay_game()\n",
      "File \u001b[0;32m~/Documents/GitHub/Briscola-Game/briscola.py:172\u001b[0m, in \u001b[0;36mBriscola_game.play_game\u001b[0;34m(self)\u001b[0m\n\u001b[1;32m    170\u001b[0m done \u001b[39m=\u001b[39m \u001b[39mFalse\u001b[39;00m\n\u001b[1;32m    171\u001b[0m \u001b[39mwhile\u001b[39;00m(\u001b[39mnot\u001b[39;00m done):\n\u001b[0;32m--> 172\u001b[0m     winner \u001b[39m=\u001b[39m \u001b[39mself\u001b[39;49m\u001b[39m.\u001b[39;49mhand(\u001b[39mself\u001b[39;49m\u001b[39m.\u001b[39;49mwinner)\n\u001b[1;32m    173\u001b[0m     \u001b[39mif\u001b[39;00m \u001b[39mlen\u001b[39m(\u001b[39mself\u001b[39m\u001b[39m.\u001b[39mdeck) \u001b[39m!=\u001b[39m \u001b[39m0\u001b[39m:\n\u001b[1;32m    174\u001b[0m         \u001b[39mif\u001b[39;00m winner \u001b[39m==\u001b[39m \u001b[39m0\u001b[39m:\n",
      "File \u001b[0;32m~/Documents/GitHub/Briscola-Game/briscola.py:134\u001b[0m, in \u001b[0;36mBriscola_game.hand\u001b[0;34m(self, winner)\u001b[0m\n\u001b[1;32m    132\u001b[0m \u001b[39melse\u001b[39;00m:\n\u001b[1;32m    133\u001b[0m     \u001b[39mself\u001b[39m\u001b[39m.\u001b[39mstate \u001b[39m=\u001b[39m \u001b[39mself\u001b[39m\u001b[39m.\u001b[39mhand_to_state(\u001b[39mself\u001b[39m\u001b[39m.\u001b[39mplayer_2,\u001b[39m1\u001b[39m)\n\u001b[0;32m--> 134\u001b[0m     card_1 \u001b[39m=\u001b[39m \u001b[39mself\u001b[39;49m\u001b[39m.\u001b[39;49mget_action(\u001b[39mself\u001b[39;49m\u001b[39m.\u001b[39;49mplayer_2, \u001b[39mself\u001b[39;49m\u001b[39m.\u001b[39;49mstate)\n\u001b[1;32m    135\u001b[0m     \u001b[39mself\u001b[39m\u001b[39m.\u001b[39mcard_on_table \u001b[39m=\u001b[39m card_1\n\u001b[1;32m    136\u001b[0m     \u001b[39mself\u001b[39m\u001b[39m.\u001b[39mstate \u001b[39m=\u001b[39m \u001b[39mself\u001b[39m\u001b[39m.\u001b[39mhand_to_state(\u001b[39mself\u001b[39m\u001b[39m.\u001b[39mplayer_1,\u001b[39m2\u001b[39m)\n",
      "File \u001b[0;32m~/Documents/GitHub/Briscola-Game/briscola.py:90\u001b[0m, in \u001b[0;36mBriscola_game.get_action\u001b[0;34m(self, player, state)\u001b[0m\n\u001b[1;32m     88\u001b[0m     action \u001b[39m=\u001b[39m \u001b[39mint\u001b[39m(\u001b[39minput\u001b[39m(\u001b[39m'\u001b[39m\u001b[39mHit (1) or Pass (0): \u001b[39m\u001b[39m'\u001b[39m))\n\u001b[1;32m     89\u001b[0m \u001b[39melif\u001b[39;00m \u001b[39mself\u001b[39m\u001b[39m.\u001b[39maction_type \u001b[39m==\u001b[39m \u001b[39m'\u001b[39m\u001b[39mrandom_policy\u001b[39m\u001b[39m'\u001b[39m:\n\u001b[0;32m---> 90\u001b[0m     action \u001b[39m=\u001b[39m np\u001b[39m.\u001b[39;49mrandom\u001b[39m.\u001b[39;49mrandint(\u001b[39mlen\u001b[39;49m(player)\u001b[39m-\u001b[39;49m \u001b[39m1\u001b[39;49m)\n\u001b[1;32m     91\u001b[0m     played_card \u001b[39m=\u001b[39m player\u001b[39m.\u001b[39mpop(action)\n\u001b[1;32m     92\u001b[0m \u001b[39melif\u001b[39;00m \u001b[39mself\u001b[39m\u001b[39m.\u001b[39maction_type \u001b[39m==\u001b[39m \u001b[39m'\u001b[39m\u001b[39mfixed_policy\u001b[39m\u001b[39m'\u001b[39m:\n",
      "File \u001b[0;32mmtrand.pyx:748\u001b[0m, in \u001b[0;36mnumpy.random.mtrand.RandomState.randint\u001b[0;34m()\u001b[0m\n",
      "File \u001b[0;32m_bounded_integers.pyx:1247\u001b[0m, in \u001b[0;36mnumpy.random._bounded_integers._rand_int64\u001b[0;34m()\u001b[0m\n",
      "\u001b[0;31mValueError\u001b[0m: high <= 0"
     ]
    }
   ],
   "source": [
    "game.play_game()\n"
   ]
  },
  {
   "cell_type": "code",
   "execution_count": null,
   "metadata": {},
   "outputs": [],
   "source": []
  },
  {
   "cell_type": "code",
   "execution_count": 12,
   "metadata": {},
   "outputs": [],
   "source": []
  }
 ],
 "metadata": {
  "kernelspec": {
   "display_name": "base",
   "language": "python",
   "name": "python3"
  },
  "language_info": {
   "codemirror_mode": {
    "name": "ipython",
    "version": 3
   },
   "file_extension": ".py",
   "mimetype": "text/x-python",
   "name": "python",
   "nbconvert_exporter": "python",
   "pygments_lexer": "ipython3",
   "version": "3.9.12"
  },
  "orig_nbformat": 4
 },
 "nbformat": 4,
 "nbformat_minor": 2
}
