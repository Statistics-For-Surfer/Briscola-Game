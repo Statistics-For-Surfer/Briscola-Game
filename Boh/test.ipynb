{
 "cells": [
  {
   "cell_type": "code",
   "execution_count": 1,
   "metadata": {},
   "outputs": [
    {
     "name": "stderr",
     "output_type": "stream",
     "text": [
      "C:\\Users\\user\\AppData\\Local\\Packages\\PythonSoftwareFoundation.Python.3.10_qbz5n2kfra8p0\\LocalCache\\local-packages\\Python310\\site-packages\\tqdm\\auto.py:22: TqdmWarning: IProgress not found. Please update jupyter and ipywidgets. See https://ipywidgets.readthedocs.io/en/stable/user_install.html\n",
      "  from .autonotebook import tqdm as notebook_tqdm\n"
     ]
    }
   ],
   "source": [
    "from Brain_DDQN import Brain"
   ]
  },
  {
   "cell_type": "code",
   "execution_count": 2,
   "metadata": {},
   "outputs": [],
   "source": [
    "brain = Brain(40,40,True)"
   ]
  },
  {
   "cell_type": "code",
   "execution_count": 3,
   "metadata": {},
   "outputs": [
    {
     "ename": "RuntimeError",
     "evalue": "gather(): Expected dtype int64 for index",
     "output_type": "error",
     "traceback": [
      "\u001b[1;31m---------------------------------------------------------------------------\u001b[0m",
      "\u001b[1;31mRuntimeError\u001b[0m                              Traceback (most recent call last)",
      "Cell \u001b[1;32mIn[3], line 1\u001b[0m\n\u001b[1;32m----> 1\u001b[0m brain\u001b[39m.\u001b[39;49mtrain()\n",
      "File \u001b[1;32mc:\\Users\\user\\Documents\\MAGISTRALE\\Semester 1-2\\SL\\Briscola_Game\\Briscola-Game\\Boh\\Brain_DDQN.py:182\u001b[0m, in \u001b[0;36mBrain.train\u001b[1;34m(self)\u001b[0m\n\u001b[0;32m    179\u001b[0m state \u001b[39m=\u001b[39m next_state\n\u001b[0;32m    181\u001b[0m \u001b[39m# Perform one step of the optimization (on the policy network)\u001b[39;00m\n\u001b[1;32m--> 182\u001b[0m \u001b[39mself\u001b[39;49m\u001b[39m.\u001b[39;49moptimize_model()\n\u001b[0;32m    184\u001b[0m \u001b[39m# Soft update of the target network's weights\u001b[39;00m\n\u001b[0;32m    185\u001b[0m \u001b[39m# θ′ ← τ θ + (1 −τ )θ′\u001b[39;00m\n\u001b[0;32m    186\u001b[0m target_net_state_dict \u001b[39m=\u001b[39m \u001b[39mself\u001b[39m\u001b[39m.\u001b[39mmodel_\u001b[39m.\u001b[39mstate_dict()\n",
      "File \u001b[1;32mc:\\Users\\user\\Documents\\MAGISTRALE\\Semester 1-2\\SL\\Briscola_Game\\Briscola-Game\\Boh\\Brain_DDQN.py:83\u001b[0m, in \u001b[0;36mBrain.optimize_model\u001b[1;34m(self)\u001b[0m\n\u001b[0;32m     78\u001b[0m reward_batch \u001b[39m=\u001b[39m torch\u001b[39m.\u001b[39mcat(batch\u001b[39m.\u001b[39mreward)\n\u001b[0;32m     80\u001b[0m \u001b[39m# Compute Q(s_t, a) - the model computes Q(s_t), then we select the\u001b[39;00m\n\u001b[0;32m     81\u001b[0m \u001b[39m# columns of actions taken. These are the actions which would've been taken\u001b[39;00m\n\u001b[0;32m     82\u001b[0m \u001b[39m# for each batch state according to policy_net\u001b[39;00m\n\u001b[1;32m---> 83\u001b[0m state_action_values \u001b[39m=\u001b[39m \u001b[39mself\u001b[39;49m\u001b[39m.\u001b[39;49mmodel(state_batch)\u001b[39m.\u001b[39;49mgather(\u001b[39m1\u001b[39;49m, action_batch)\n\u001b[0;32m     85\u001b[0m \u001b[39m# Compute V(s_{t+1}) for all next states.\u001b[39;00m\n\u001b[0;32m     86\u001b[0m \u001b[39m# Expected values of actions for non_final_next_states are computed based\u001b[39;00m\n\u001b[0;32m     87\u001b[0m \u001b[39m# on the \"older\" target_net; selecting their best reward with max(1)[0].\u001b[39;00m\n\u001b[0;32m     88\u001b[0m \u001b[39m# This is merged based on the mask, such that we'll have either the expected\u001b[39;00m\n\u001b[0;32m     89\u001b[0m \u001b[39m# state value or 0 in case the state was final.\u001b[39;00m\n\u001b[0;32m     90\u001b[0m next_state_values \u001b[39m=\u001b[39m torch\u001b[39m.\u001b[39mzeros(BATCH_SIZE, device\u001b[39m=\u001b[39mdevice)\n",
      "\u001b[1;31mRuntimeError\u001b[0m: gather(): Expected dtype int64 for index"
     ]
    }
   ],
   "source": [
    "brain.train()"
   ]
  },
  {
   "cell_type": "code",
   "execution_count": 2,
   "metadata": {},
   "outputs": [
    {
     "ename": "TypeError",
     "evalue": "Game.__init__() missing 1 required positional argument: 'policy'",
     "output_type": "error",
     "traceback": [
      "\u001b[1;31m---------------------------------------------------------------------------\u001b[0m",
      "\u001b[1;31mTypeError\u001b[0m                                 Traceback (most recent call last)",
      "Cell \u001b[1;32mIn[2], line 1\u001b[0m\n\u001b[1;32m----> 1\u001b[0m game \u001b[39m=\u001b[39m Briscola\u001b[39m.\u001b[39;49mGame([\u001b[39m'\u001b[39;49m\u001b[39mQ_learning\u001b[39;49m\u001b[39m'\u001b[39;49m,\u001b[39m'\u001b[39;49m\u001b[39mRandom\u001b[39;49m\u001b[39m'\u001b[39;49m], \u001b[39mTrue\u001b[39;49;00m)\n",
      "File \u001b[1;32mc:\\Users\\user\\Documents\\MAGISTRALE\\Semester 1-2\\SL\\Briscola_Game\\Briscola-Game\\Boh\\Game.py:12\u001b[0m, in \u001b[0;36mGame.__init__\u001b[1;34m(self, policy, train)\u001b[0m\n\u001b[0;32m      9\u001b[0m \u001b[39mdef\u001b[39;00m \u001b[39m__init__\u001b[39m(\u001b[39mself\u001b[39m, policy, train \u001b[39m=\u001b[39m \u001b[39mFalse\u001b[39;00m):\n\u001b[0;32m     11\u001b[0m     \u001b[39mself\u001b[39m\u001b[39m.\u001b[39mdeck \u001b[39m=\u001b[39m Deck()\n\u001b[1;32m---> 12\u001b[0m     \u001b[39mself\u001b[39m\u001b[39m.\u001b[39mplayer_1 \u001b[39m=\u001b[39m Player(\u001b[39mself\u001b[39;49m\u001b[39m.\u001b[39;49mdeck\u001b[39m.\u001b[39;49mdraw_first_hand(), policy[\u001b[39m0\u001b[39;49m], train)\n\u001b[0;32m     13\u001b[0m     \u001b[39mself\u001b[39m\u001b[39m.\u001b[39mplayer_2 \u001b[39m=\u001b[39m Player(\u001b[39mself\u001b[39m\u001b[39m.\u001b[39mdeck\u001b[39m.\u001b[39mdraw_first_hand(), policy[\u001b[39m1\u001b[39m])\n\u001b[0;32m     15\u001b[0m     \u001b[39mself\u001b[39m\u001b[39m.\u001b[39mstate \u001b[39m=\u001b[39m \u001b[39mself\u001b[39m\u001b[39m.\u001b[39minitial_state(\u001b[39mself\u001b[39m\u001b[39m.\u001b[39mplayer_1\u001b[39m.\u001b[39mcards, \n\u001b[0;32m     16\u001b[0m                                     \u001b[39mself\u001b[39m\u001b[39m.\u001b[39mplayer_2\u001b[39m.\u001b[39mcards, \n\u001b[0;32m     17\u001b[0m                                     \u001b[39mself\u001b[39m\u001b[39m.\u001b[39mdeck\u001b[39m.\u001b[39mbriscola)\n",
      "File \u001b[1;32mc:\\Users\\user\\Documents\\MAGISTRALE\\Semester 1-2\\SL\\Briscola_Game\\Briscola-Game\\Boh\\Players.py:22\u001b[0m, in \u001b[0;36mPlayer.__init__\u001b[1;34m(self, hand, policy, train)\u001b[0m\n\u001b[0;32m     19\u001b[0m \u001b[39mself\u001b[39m\u001b[39m.\u001b[39mstate \u001b[39m=\u001b[39m \u001b[39mNone\u001b[39;00m\n\u001b[0;32m     21\u001b[0m \u001b[39mif\u001b[39;00m policy \u001b[39m==\u001b[39m \u001b[39m'\u001b[39m\u001b[39mQ_learning\u001b[39m\u001b[39m'\u001b[39m:\n\u001b[1;32m---> 22\u001b[0m     \u001b[39mself\u001b[39m\u001b[39m.\u001b[39mbrain \u001b[39m=\u001b[39m Brain(\u001b[39m40\u001b[39;49m, \u001b[39m40\u001b[39;49m, train)\n",
      "File \u001b[1;32mc:\\Users\\user\\Documents\\MAGISTRALE\\Semester 1-2\\SL\\Briscola_Game\\Briscola-Game\\Boh\\Brain_DDQN.py:55\u001b[0m, in \u001b[0;36mBrain.__init__\u001b[1;34m(self, stateCnt, actionCnt, train)\u001b[0m\n\u001b[0;32m     52\u001b[0m \u001b[39mself\u001b[39m\u001b[39m.\u001b[39moptimizer \u001b[39m=\u001b[39m optim\u001b[39m.\u001b[39mAdamW(\u001b[39mself\u001b[39m\u001b[39m.\u001b[39mmodel\u001b[39m.\u001b[39mparameters(), lr\u001b[39m=\u001b[39mLR, \n\u001b[0;32m     53\u001b[0m                         amsgrad\u001b[39m=\u001b[39m\u001b[39mTrue\u001b[39;00m)\n\u001b[0;32m     54\u001b[0m \u001b[39mself\u001b[39m\u001b[39m.\u001b[39mmemory \u001b[39m=\u001b[39m ReplayMemory(\u001b[39m10000\u001b[39m)\n\u001b[1;32m---> 55\u001b[0m \u001b[39mself\u001b[39m\u001b[39m.\u001b[39menv \u001b[39m=\u001b[39m Briscola\u001b[39m.\u001b[39;49mGame()\n",
      "\u001b[1;31mTypeError\u001b[0m: Game.__init__() missing 1 required positional argument: 'policy'"
     ]
    }
   ],
   "source": [
    "game = Briscola.Game(['Q_learning','Random'], True)"
   ]
  },
  {
   "cell_type": "code",
   "execution_count": 4,
   "metadata": {},
   "outputs": [
    {
     "data": {
      "text/plain": [
       "<Brain_DDQN.Brain at 0x286096aa050>"
      ]
     },
     "execution_count": 4,
     "metadata": {},
     "output_type": "execute_result"
    }
   ],
   "source": [
    "game.player_1.brain"
   ]
  },
  {
   "cell_type": "code",
   "execution_count": 3,
   "metadata": {},
   "outputs": [
    {
     "data": {
      "text/plain": [
       "{'Pino': 199, 'Gianfredo': 799, 'Ties': 2}"
      ]
     },
     "execution_count": 3,
     "metadata": {},
     "output_type": "execute_result"
    }
   ],
   "source": [
    "B = 1000\n",
    "giocatori = ['Pino' , 'Gianfredo', 'Ties']\n",
    "counter = {'Pino': 0 , 'Gianfredo':0, 'Ties':0}\n",
    "for i in range(B):\n",
    "    result = game.game_simulation()\n",
    "    if result > 0:\n",
    "        counter['Pino'] += 1\n",
    "    elif result < 0:\n",
    "        counter['Gianfredo'] += 1\n",
    "    else: counter['Ties'] +=1\n",
    "counter"
   ]
  }
 ],
 "metadata": {
  "kernelspec": {
   "display_name": "Python 3",
   "language": "python",
   "name": "python3"
  },
  "language_info": {
   "codemirror_mode": {
    "name": "ipython",
    "version": 3
   },
   "file_extension": ".py",
   "mimetype": "text/x-python",
   "name": "python",
   "nbconvert_exporter": "python",
   "pygments_lexer": "ipython3",
   "version": "3.10.11"
  },
  "orig_nbformat": 4
 },
 "nbformat": 4,
 "nbformat_minor": 2
}
