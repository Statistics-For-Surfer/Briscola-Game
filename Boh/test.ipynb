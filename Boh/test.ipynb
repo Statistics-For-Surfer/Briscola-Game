{
 "cells": [
  {
   "cell_type": "code",
   "execution_count": 1,
   "metadata": {},
   "outputs": [],
   "source": [
    "import Game as Briscola\n",
    "import numpy as np"
   ]
  },
  {
   "cell_type": "code",
   "execution_count": 2,
   "metadata": {},
   "outputs": [],
   "source": [
    "game = Briscola.Game()"
   ]
  },
  {
   "cell_type": "code",
   "execution_count": 3,
   "metadata": {},
   "outputs": [
    {
     "data": {
      "text/plain": [
       "{'Pino': 199, 'Gianfredo': 799, 'Ties': 2}"
      ]
     },
     "execution_count": 3,
     "metadata": {},
     "output_type": "execute_result"
    }
   ],
   "source": [
    "B = 1000\n",
    "giocatori = ['Pino' , 'Gianfredo', 'Ties']\n",
    "counter = {'Pino': 0 , 'Gianfredo':0, 'Ties':0}\n",
    "for i in range(B):\n",
    "    result = game.game_simulation()\n",
    "    if result > 0:\n",
    "        counter['Pino'] += 1\n",
    "    elif result < 0:\n",
    "        counter['Gianfredo'] += 1\n",
    "    else: counter['Ties'] +=1\n",
    "counter"
   ]
  }
 ],
 "metadata": {
  "kernelspec": {
   "display_name": "Python 3",
   "language": "python",
   "name": "python3"
  },
  "language_info": {
   "codemirror_mode": {
    "name": "ipython",
    "version": 3
   },
   "file_extension": ".py",
   "mimetype": "text/x-python",
   "name": "python",
   "nbconvert_exporter": "python",
   "pygments_lexer": "ipython3",
   "version": "3.10.11"
  },
  "orig_nbformat": 4
 },
 "nbformat": 4,
 "nbformat_minor": 2
}
