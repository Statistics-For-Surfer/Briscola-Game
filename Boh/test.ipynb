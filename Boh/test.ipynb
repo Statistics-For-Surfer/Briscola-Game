{
 "cells": [
  {
   "cell_type": "code",
   "execution_count": 1,
   "metadata": {},
   "outputs": [
    {
     "name": "stderr",
     "output_type": "stream",
     "text": [
      "C:\\Users\\user\\AppData\\Local\\Packages\\PythonSoftwareFoundation.Python.3.10_qbz5n2kfra8p0\\LocalCache\\local-packages\\Python310\\site-packages\\tqdm\\auto.py:22: TqdmWarning: IProgress not found. Please update jupyter and ipywidgets. See https://ipywidgets.readthedocs.io/en/stable/user_install.html\n",
      "  from .autonotebook import tqdm as notebook_tqdm\n"
     ]
    }
   ],
   "source": [
    "from Brain_DDQN import Brain"
   ]
  },
  {
   "cell_type": "code",
   "execution_count": 2,
   "metadata": {},
   "outputs": [],
   "source": [
    "brain = Brain(40,40,True)"
   ]
  },
  {
   "cell_type": "code",
   "execution_count": 3,
   "metadata": {},
   "outputs": [
    {
     "ename": "TypeError",
     "evalue": "find_all_valid_actions() missing 1 required positional argument: 'states'",
     "output_type": "error",
     "traceback": [
      "\u001b[1;31m---------------------------------------------------------------------------\u001b[0m",
      "\u001b[1;31mTypeError\u001b[0m                                 Traceback (most recent call last)",
      "Cell \u001b[1;32mIn[3], line 1\u001b[0m\n\u001b[1;32m----> 1\u001b[0m brain\u001b[39m.\u001b[39;49mtrain()\n",
      "File \u001b[1;32mc:\\Users\\user\\Documents\\MAGISTRALE\\Semester 1-2\\SL\\Briscola_Game\\Briscola-Game\\Boh\\Brain_DDQN.py:160\u001b[0m, in \u001b[0;36mBrain.train\u001b[1;34m(self)\u001b[0m\n\u001b[0;32m    156\u001b[0m state \u001b[39m=\u001b[39m torch\u001b[39m.\u001b[39mtensor(state, dtype\u001b[39m=\u001b[39mtorch\u001b[39m.\u001b[39mfloat32, \n\u001b[0;32m    157\u001b[0m                     device\u001b[39m=\u001b[39mdevice)\u001b[39m.\u001b[39munsqueeze(\u001b[39m0\u001b[39m)\n\u001b[0;32m    158\u001b[0m \u001b[39mfor\u001b[39;00m _ \u001b[39min\u001b[39;00m \u001b[39mrange\u001b[39m(\u001b[39m20\u001b[39m):\n\u001b[0;32m    159\u001b[0m     \u001b[39m# Let the agent choose the action\u001b[39;00m\n\u001b[1;32m--> 160\u001b[0m     action \u001b[39m=\u001b[39m \u001b[39mself\u001b[39;49m\u001b[39m.\u001b[39;49menv\u001b[39m.\u001b[39;49mget_action_train(state, \u001b[39mself\u001b[39;49m\u001b[39m.\u001b[39;49menv\u001b[39m.\u001b[39;49mplayer_1, \u001b[39mself\u001b[39;49m)\n\u001b[0;32m    162\u001b[0m     \u001b[39m# Perform the action and see where it will lead to\u001b[39;00m\n\u001b[0;32m    163\u001b[0m     observation, reward, done \u001b[39m=\u001b[39m \u001b[39mself\u001b[39m\u001b[39m.\u001b[39menv\u001b[39m.\u001b[39mstep(action)\n",
      "File \u001b[1;32mc:\\Users\\user\\Documents\\MAGISTRALE\\Semester 1-2\\SL\\Briscola_Game\\Briscola-Game\\Boh\\Train.py:256\u001b[0m, in \u001b[0;36mGame_Train.get_action_train\u001b[1;34m(self, state, player, brain)\u001b[0m\n\u001b[0;32m    254\u001b[0m     \u001b[39mreturn\u001b[39;00m \u001b[39mself\u001b[39m\u001b[39m.\u001b[39mrandom_action(player)\n\u001b[0;32m    255\u001b[0m \u001b[39melse\u001b[39;00m: \n\u001b[1;32m--> 256\u001b[0m     \u001b[39mreturn\u001b[39;00m \u001b[39mself\u001b[39;49m\u001b[39m.\u001b[39;49mQ_action(state, player, brain)\n",
      "File \u001b[1;32mc:\\Users\\user\\Documents\\MAGISTRALE\\Semester 1-2\\SL\\Briscola_Game\\Briscola-Game\\Boh\\Train.py:281\u001b[0m, in \u001b[0;36mGame_Train.Q_action\u001b[1;34m(self, state, player, brain)\u001b[0m\n\u001b[0;32m    277\u001b[0m         \u001b[39mreturn\u001b[39;00m \u001b[39mself\u001b[39m\u001b[39m.\u001b[39mrandom_action(player)\n\u001b[0;32m    279\u001b[0m \u001b[39m# Over the threshold we use the nn prediction\u001b[39;00m\n\u001b[0;32m    280\u001b[0m \u001b[39melse\u001b[39;00m:\n\u001b[1;32m--> 281\u001b[0m     card_id \u001b[39m=\u001b[39m brain\u001b[39m.\u001b[39;49mpredict_next_action(state)\n\u001b[0;32m    282\u001b[0m     \u001b[39mfor\u001b[39;00m card \u001b[39min\u001b[39;00m player[\u001b[39m'\u001b[39m\u001b[39mcards\u001b[39m\u001b[39m'\u001b[39m]:\n\u001b[0;32m    283\u001b[0m         \u001b[39mif\u001b[39;00m card\u001b[39m.\u001b[39mid \u001b[39m==\u001b[39m card_id:\n",
      "File \u001b[1;32mc:\\Users\\user\\Documents\\MAGISTRALE\\Semester 1-2\\SL\\Briscola_Game\\Briscola-Game\\Boh\\Brain_DDQN.py:130\u001b[0m, in \u001b[0;36mBrain.predict_next_action\u001b[1;34m(self, state, target)\u001b[0m\n\u001b[0;32m    124\u001b[0m \u001b[39m'''\u001b[39;00m\n\u001b[0;32m    125\u001b[0m \u001b[39mFunction that given the current state of the player gives back\u001b[39;00m\n\u001b[0;32m    126\u001b[0m \u001b[39mthe next action using the predicted Q table\u001b[39;00m\n\u001b[0;32m    127\u001b[0m \u001b[39m'''\u001b[39;00m\n\u001b[0;32m    129\u001b[0m \u001b[39m# Select the actions that are valid given the state\u001b[39;00m\n\u001b[1;32m--> 130\u001b[0m valid_actions \u001b[39m=\u001b[39m find_all_valid_actions(state)\n\u001b[0;32m    132\u001b[0m \u001b[39m# Get the predictions of the nn\u001b[39;00m\n\u001b[0;32m    133\u001b[0m next_Qs \u001b[39m=\u001b[39m \u001b[39mself\u001b[39m\u001b[39m.\u001b[39mpredict(state, target)\u001b[39m.\u001b[39mflatten()\n",
      "\u001b[1;31mTypeError\u001b[0m: find_all_valid_actions() missing 1 required positional argument: 'states'"
     ]
    }
   ],
   "source": [
    "brain.train()"
   ]
  },
  {
   "cell_type": "code",
   "execution_count": 2,
   "metadata": {},
   "outputs": [
    {
     "ename": "TypeError",
     "evalue": "Game.__init__() missing 1 required positional argument: 'policy'",
     "output_type": "error",
     "traceback": [
      "\u001b[1;31m---------------------------------------------------------------------------\u001b[0m",
      "\u001b[1;31mTypeError\u001b[0m                                 Traceback (most recent call last)",
      "Cell \u001b[1;32mIn[2], line 1\u001b[0m\n\u001b[1;32m----> 1\u001b[0m game \u001b[39m=\u001b[39m Briscola\u001b[39m.\u001b[39;49mGame([\u001b[39m'\u001b[39;49m\u001b[39mQ_learning\u001b[39;49m\u001b[39m'\u001b[39;49m,\u001b[39m'\u001b[39;49m\u001b[39mRandom\u001b[39;49m\u001b[39m'\u001b[39;49m], \u001b[39mTrue\u001b[39;49;00m)\n",
      "File \u001b[1;32mc:\\Users\\user\\Documents\\MAGISTRALE\\Semester 1-2\\SL\\Briscola_Game\\Briscola-Game\\Boh\\Game.py:12\u001b[0m, in \u001b[0;36mGame.__init__\u001b[1;34m(self, policy, train)\u001b[0m\n\u001b[0;32m      9\u001b[0m \u001b[39mdef\u001b[39;00m \u001b[39m__init__\u001b[39m(\u001b[39mself\u001b[39m, policy, train \u001b[39m=\u001b[39m \u001b[39mFalse\u001b[39;00m):\n\u001b[0;32m     11\u001b[0m     \u001b[39mself\u001b[39m\u001b[39m.\u001b[39mdeck \u001b[39m=\u001b[39m Deck()\n\u001b[1;32m---> 12\u001b[0m     \u001b[39mself\u001b[39m\u001b[39m.\u001b[39mplayer_1 \u001b[39m=\u001b[39m Player(\u001b[39mself\u001b[39;49m\u001b[39m.\u001b[39;49mdeck\u001b[39m.\u001b[39;49mdraw_first_hand(), policy[\u001b[39m0\u001b[39;49m], train)\n\u001b[0;32m     13\u001b[0m     \u001b[39mself\u001b[39m\u001b[39m.\u001b[39mplayer_2 \u001b[39m=\u001b[39m Player(\u001b[39mself\u001b[39m\u001b[39m.\u001b[39mdeck\u001b[39m.\u001b[39mdraw_first_hand(), policy[\u001b[39m1\u001b[39m])\n\u001b[0;32m     15\u001b[0m     \u001b[39mself\u001b[39m\u001b[39m.\u001b[39mstate \u001b[39m=\u001b[39m \u001b[39mself\u001b[39m\u001b[39m.\u001b[39minitial_state(\u001b[39mself\u001b[39m\u001b[39m.\u001b[39mplayer_1\u001b[39m.\u001b[39mcards, \n\u001b[0;32m     16\u001b[0m                                     \u001b[39mself\u001b[39m\u001b[39m.\u001b[39mplayer_2\u001b[39m.\u001b[39mcards, \n\u001b[0;32m     17\u001b[0m                                     \u001b[39mself\u001b[39m\u001b[39m.\u001b[39mdeck\u001b[39m.\u001b[39mbriscola)\n",
      "File \u001b[1;32mc:\\Users\\user\\Documents\\MAGISTRALE\\Semester 1-2\\SL\\Briscola_Game\\Briscola-Game\\Boh\\Players.py:22\u001b[0m, in \u001b[0;36mPlayer.__init__\u001b[1;34m(self, hand, policy, train)\u001b[0m\n\u001b[0;32m     19\u001b[0m \u001b[39mself\u001b[39m\u001b[39m.\u001b[39mstate \u001b[39m=\u001b[39m \u001b[39mNone\u001b[39;00m\n\u001b[0;32m     21\u001b[0m \u001b[39mif\u001b[39;00m policy \u001b[39m==\u001b[39m \u001b[39m'\u001b[39m\u001b[39mQ_learning\u001b[39m\u001b[39m'\u001b[39m:\n\u001b[1;32m---> 22\u001b[0m     \u001b[39mself\u001b[39m\u001b[39m.\u001b[39mbrain \u001b[39m=\u001b[39m Brain(\u001b[39m40\u001b[39;49m, \u001b[39m40\u001b[39;49m, train)\n",
      "File \u001b[1;32mc:\\Users\\user\\Documents\\MAGISTRALE\\Semester 1-2\\SL\\Briscola_Game\\Briscola-Game\\Boh\\Brain_DDQN.py:55\u001b[0m, in \u001b[0;36mBrain.__init__\u001b[1;34m(self, stateCnt, actionCnt, train)\u001b[0m\n\u001b[0;32m     52\u001b[0m \u001b[39mself\u001b[39m\u001b[39m.\u001b[39moptimizer \u001b[39m=\u001b[39m optim\u001b[39m.\u001b[39mAdamW(\u001b[39mself\u001b[39m\u001b[39m.\u001b[39mmodel\u001b[39m.\u001b[39mparameters(), lr\u001b[39m=\u001b[39mLR, \n\u001b[0;32m     53\u001b[0m                         amsgrad\u001b[39m=\u001b[39m\u001b[39mTrue\u001b[39;00m)\n\u001b[0;32m     54\u001b[0m \u001b[39mself\u001b[39m\u001b[39m.\u001b[39mmemory \u001b[39m=\u001b[39m ReplayMemory(\u001b[39m10000\u001b[39m)\n\u001b[1;32m---> 55\u001b[0m \u001b[39mself\u001b[39m\u001b[39m.\u001b[39menv \u001b[39m=\u001b[39m Briscola\u001b[39m.\u001b[39;49mGame()\n",
      "\u001b[1;31mTypeError\u001b[0m: Game.__init__() missing 1 required positional argument: 'policy'"
     ]
    }
   ],
   "source": [
    "game = Briscola.Game(['Q_learning','Random'], True)"
   ]
  },
  {
   "cell_type": "code",
   "execution_count": 4,
   "metadata": {},
   "outputs": [
    {
     "data": {
      "text/plain": [
       "<Brain_DDQN.Brain at 0x286096aa050>"
      ]
     },
     "execution_count": 4,
     "metadata": {},
     "output_type": "execute_result"
    }
   ],
   "source": [
    "game.player_1.brain"
   ]
  },
  {
   "cell_type": "code",
   "execution_count": 3,
   "metadata": {},
   "outputs": [
    {
     "data": {
      "text/plain": [
       "{'Pino': 199, 'Gianfredo': 799, 'Ties': 2}"
      ]
     },
     "execution_count": 3,
     "metadata": {},
     "output_type": "execute_result"
    }
   ],
   "source": [
    "B = 1000\n",
    "giocatori = ['Pino' , 'Gianfredo', 'Ties']\n",
    "counter = {'Pino': 0 , 'Gianfredo':0, 'Ties':0}\n",
    "for i in range(B):\n",
    "    result = game.game_simulation()\n",
    "    if result > 0:\n",
    "        counter['Pino'] += 1\n",
    "    elif result < 0:\n",
    "        counter['Gianfredo'] += 1\n",
    "    else: counter['Ties'] +=1\n",
    "counter"
   ]
  }
 ],
 "metadata": {
  "kernelspec": {
   "display_name": "Python 3",
   "language": "python",
   "name": "python3"
  },
  "language_info": {
   "codemirror_mode": {
    "name": "ipython",
    "version": 3
   },
   "file_extension": ".py",
   "mimetype": "text/x-python",
   "name": "python",
   "nbconvert_exporter": "python",
   "pygments_lexer": "ipython3",
   "version": "3.10.11"
  },
  "orig_nbformat": 4
 },
 "nbformat": 4,
 "nbformat_minor": 2
}
